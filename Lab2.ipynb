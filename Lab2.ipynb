{
 "cells": [
  {
   "cell_type": "code",
   "execution_count": null,
   "metadata": {},
   "outputs": [],
   "source": []
  },
  {
   "cell_type": "markdown",
   "metadata": {},
   "source": [
    "# Lab2: CNN with Visual \n",
    "### Practice 1: Dataset and Data Loader (Visual Data)"
   ]
  },
  {
   "cell_type": "code",
   "execution_count": 4,
   "metadata": {},
   "outputs": [],
   "source": [
    "#CIFAR-10 Dataset\n",
    "import torch\n",
    "from torch.utils.data import Dataset, DataLoader\n",
    "from torchvision import datasets, transforms\n",
    "\n",
    "\n",
    "\n",
    "class CustomDataset(Dataset):\n",
    "    def __init__(self, train, transform=None, data_dir = './data/CIFAR_10'):\n",
    "        self.data = datasets.CIFAR10(root=data_dir, train=train, download=True)\n",
    "        self.transform = transform #(H,W,C) -> (C,H,W) ex. 32*32*3 -> 3*32*32 3은 color channel\n",
    "\n",
    "    def __len__(self):\n",
    "        return len(self.data)\n",
    "    \n",
    "    def __getitem__(self, idx):\n",
    "        return self.data[idx]\n",
    "    \n",
    "    def collate_fn(self, data): \n",
    "        # DataLoader 를 사용할 때는, 반드시 사용자 정의 collate_fn 를 사용해야한다\n",
    "        batch_x, batch_y = [],[]\n",
    "        for x, y in data: # sample x, label y\n",
    "            if self.transform is not None:\n",
    "                x = self.transform(x)\n",
    "            x = transforms.ToTensor()(x)\n",
    "            y = torch.Tensor([y])\n",
    "            batch_x.append(x)\n",
    "            batch_y.append(y)\n",
    "        batch_x = torch.stack(batch_x).float()\n",
    "        batch_y = torch.cat(batch_y).long()\n",
    "        return batch_x, batch_y\n",
    "    \n",
    "        "
   ]
  },
  {
   "cell_type": "code",
   "execution_count": null,
   "metadata": {},
   "outputs": [],
   "source": [
    "train_dataset = CustomDataset(train=True)\n",
    "test_dataset = CustomDataset(train=False)\n",
    "\n",
    "BATCH_SIZE = 64 #arbitrary value\n",
    "train_loader = DataLoader(dataset = train_dataset,\n",
    "                          batch_size = BATCH_SIZE,\n",
    "                          shuffle = True,\n",
    "                          collate_fn = train_dataset.collate_fn)\n",
    "test_loader = DataLoader(dataset=test_dataset,\n",
    "                         batch_size = BATCH_SIZE,\n",
    "                         shuffle = False,\n",
    "                         collate_fn = test_dataset.collate_fn)"
   ]
  },
  {
   "cell_type": "code",
   "execution_count": null,
   "metadata": {},
   "outputs": [],
   "source": [
    "# DATA AUGMENTATION METHODS\n",
    "transforms.Grayscale(num_output_channels = 3)\n",
    "transforms.ColorJitter(brightness=0.5, contrast=0.5, saturation=0.5, hue=0.5)\n",
    "transforms.RandomHorizontalFlip(p=0.5)\n",
    "transforms.RandomVerticalFlip(p=0.5)\n",
    "transforms.RandomResizedCrop((200,200), scale=(0.1,1), ratio = (0.5,2))\n",
    "\n",
    "\n",
    "transforms.RandomRotation(degrees=45)\n",
    "\n",
    "# Custom Data Augmentation ; Define a sequence of transforms to apply to each input image\n",
    "augment_transform = transforms.Compose([\n",
    "    transforms.ColorJitter(hue=.05, saturation=.05),\n",
    "    transforms.RandomHorizontalFlip().\n",
    "    transforms.RandomRotation(20, resample=PIL.Image.BILINEAR),\n",
    "])\n",
    "\n",
    "# Custom Dataset with Data Augmentation; Take the defined transforms as an argument and update self.transform when initializing the dataset\n",
    "train_dataset = CustomDataset(train=True, transform=augment_transform)\n",
    "test_dataset = CustomDataset(train=False, transform=augment_transform)\n",
    "\n",
    "train_loader = DataLoader(dataset = train_dataset,\n",
    "                          batch_size = BATCH_SIZE,\n",
    "                          shuffle = True,\n",
    "                          collate_fn = train_dataset.collate_fn)\n",
    "test_loader = DataLoader(dataset = test_dataset,\n",
    "                         batch_size = BATCH_SIZE,\n",
    "                         shuffle = False,\n",
    "                         collate_fn = test_dataset.collate_fn)\n",
    "\n",
    "\n"
   ]
  },
  {
   "cell_type": "markdown",
   "metadata": {},
   "source": [
    "### Practice 2: Training a CNN model"
   ]
  },
  {
   "cell_type": "code",
   "execution_count": 4,
   "metadata": {},
   "outputs": [
    {
     "name": "stderr",
     "output_type": "stream",
     "text": [
      "/home/connectome/ahhyun724/.conda/envs/3D_CNN_woPip/lib/python3.7/site-packages/tqdm/auto.py:21: TqdmWarning: IProgress not found. Please update jupyter and ipywidgets. See https://ipywidgets.readthedocs.io/en/stable/user_install.html\n",
      "  from .autonotebook import tqdm as notebook_tqdm\n"
     ]
    }
   ],
   "source": [
    "import cv2\n",
    "import PIL\n",
    "import numpy as np\n",
    "from tqdm.auto import tqdm\n",
    "import matplotlib.pyplot as plt\n",
    "\n",
    "import torch\n",
    "import torch.nn as nn\n",
    "import torch.nn.functional as F\n",
    "import torchvision\n",
    "from torchvision import transforms, datasets\n",
    "from torch.utils.data import Dataset, DataLoader"
   ]
  },
  {
   "cell_type": "code",
   "execution_count": 5,
   "metadata": {},
   "outputs": [
    {
     "name": "stdout",
     "output_type": "stream",
     "text": [
      "Using PyTorch version: 1.13.1+cu117, Device: cuda\n"
     ]
    }
   ],
   "source": [
    "DEVICE = torch.device('cuda') if torch.cuda.is_available() else torch.device('cpu')\n",
    "\n",
    "print(\"Using PyTorch version: {}, Device: {}\".format(torch.__version__, DEVICE))"
   ]
  },
  {
   "cell_type": "code",
   "execution_count": 6,
   "metadata": {},
   "outputs": [
    {
     "name": "stdout",
     "output_type": "stream",
     "text": [
      "Downloading https://www.cs.toronto.edu/~kriz/cifar-10-python.tar.gz to ./data/cifar-10-python.tar.gz\n"
     ]
    },
    {
     "name": "stderr",
     "output_type": "stream",
     "text": [
      "100%|██████████| 170498071/170498071 [02:01<00:00, 1401067.79it/s]\n"
     ]
    },
    {
     "name": "stdout",
     "output_type": "stream",
     "text": [
      "Extracting ./data/cifar-10-python.tar.gz to ./data\n",
      "(tensor([[[0.6667, 0.6588, 0.6941,  ..., 0.6353, 0.6196, 0.6157],\n",
      "         [0.6588, 0.6745, 0.6706,  ..., 0.6235, 0.6118, 0.6039],\n",
      "         [0.6039, 0.5843, 0.5059,  ..., 0.6314, 0.6157, 0.6039],\n",
      "         ...,\n",
      "         [0.2902, 0.2980, 0.3059,  ..., 0.2784, 0.2667, 0.2392],\n",
      "         [0.2667, 0.2706, 0.2824,  ..., 0.2980, 0.2784, 0.2784],\n",
      "         [0.2627, 0.2667, 0.2706,  ..., 0.2941, 0.2784, 0.2863]],\n",
      "\n",
      "        [[0.7059, 0.6980, 0.7255,  ..., 0.7020, 0.6980, 0.6941],\n",
      "         [0.7098, 0.7255, 0.7176,  ..., 0.6941, 0.6902, 0.6824],\n",
      "         [0.6667, 0.6471, 0.5647,  ..., 0.6980, 0.6941, 0.6824],\n",
      "         ...,\n",
      "         [0.3294, 0.3333, 0.3333,  ..., 0.2941, 0.2824, 0.2549],\n",
      "         [0.2980, 0.3020, 0.3098,  ..., 0.3137, 0.2941, 0.2941],\n",
      "         [0.2941, 0.2980, 0.2941,  ..., 0.3098, 0.2941, 0.3020]],\n",
      "\n",
      "        [[0.7765, 0.7686, 0.7961,  ..., 0.8431, 0.8392, 0.8314],\n",
      "         [0.7765, 0.7882, 0.7843,  ..., 0.8314, 0.8275, 0.8196],\n",
      "         [0.7294, 0.7098, 0.6353,  ..., 0.8392, 0.8314, 0.8196],\n",
      "         ...,\n",
      "         [0.3137, 0.3176, 0.3216,  ..., 0.3059, 0.2941, 0.2667],\n",
      "         [0.3020, 0.3059, 0.3059,  ..., 0.3255, 0.3059, 0.3059],\n",
      "         [0.3059, 0.3098, 0.2980,  ..., 0.3216, 0.3059, 0.3137]]]), 1)\n"
     ]
    }
   ],
   "source": [
    "# Practice 1: Dataset and DataLoader (Visual Data)\n",
    "# Explore CIFAR10 dataset\n",
    "\n",
    "\"\"\"\n",
    "(1) Visualize the 5th element of the cifar10 train dataset with its label\n",
    "- hint1 : Use plt.imshow() function to visualize the image\n",
    "- hint2 : Use CIFAR10_LABEL to extract the label. With the gien label index in the dataset, you can extract the label\"\"\"\n",
    "\n",
    "CIFAR10_LABEL = ['airplane', 'automobile', 'bird', 'cat', 'deer', 'dog', 'frog', 'horse', 'ship', 'truck']\n",
    "\n",
    "train_dataset = torchvision.datasets.CIFAR10(root='./data', train=True, download=True, transform=transforms.ToTensor())\n",
    "print(train_dataset[4])\n"
   ]
  },
  {
   "cell_type": "code",
   "execution_count": 7,
   "metadata": {},
   "outputs": [
    {
     "data": {
      "image/png": "[encoded data removed]",
      "text/plain": [
       "<Figure size 432x288 with 1 Axes>"
      ]
     },
     "metadata": {
      "needs_background": "light"
     },
     "output_type": "display_data"
    }
   ],
   "source": [
    "# Access the 5th element (index 4)\n",
    "image, label_index = train_dataset[4]\n",
    "\n",
    "# Convert the image tensor to a numpy array and transpose it to (H, W, C) format\n",
    "image = image.numpy().transpose((1, 2, 0))\n",
    "\n",
    "# Visualize the image\n",
    "plt.imshow(image)\n",
    "plt.title(f\"Label: {CIFAR10_LABEL[label_index]}\")\n",
    "plt.show()"
   ]
  },
  {
   "cell_type": "code",
   "execution_count": 18,
   "metadata": {},
   "outputs": [
    {
     "name": "stdout",
     "output_type": "stream",
     "text": [
      "<image no.0>\n",
      "torch.Size([3, 32, 32])\n",
      "torch.Size([32, 32, 3])\n"
     ]
    },
    {
     "data": {
      "image/png": "[encoded data removed]",
      "text/plain": [
       "<Figure size 432x288 with 1 Axes>"
      ]
     },
     "metadata": {
      "needs_background": "light"
     },
     "output_type": "display_data"
    },
    {
     "name": "stdout",
     "output_type": "stream",
     "text": [
      "<image no.1>\n",
      "torch.Size([3, 32, 32])\n",
      "torch.Size([32, 32, 3])\n"
     ]
    },
    {
     "data": {
      "image/png": "[encoded data removed]",
      "text/plain": [
       "<Figure size 432x288 with 1 Axes>"
      ]
     },
     "metadata": {
      "needs_background": "light"
     },
     "output_type": "display_data"
    },
    {
     "name": "stdout",
     "output_type": "stream",
     "text": [
      "<image no.2>\n",
      "torch.Size([3, 32, 32])\n",
      "torch.Size([32, 32, 3])\n"
     ]
    },
    {
     "data": {
      "image/png": "[encoded data removed]",
      "text/plain": [
       "<Figure size 432x288 with 1 Axes>"
      ]
     },
     "metadata": {
      "needs_background": "light"
     },
     "output_type": "display_data"
    },
    {
     "name": "stdout",
     "output_type": "stream",
     "text": [
      "<image no.3>\n",
      "torch.Size([3, 32, 32])\n",
      "torch.Size([32, 32, 3])\n"
     ]
    },
    {
     "data": {
      "image/png": "[encoded data removed]",
      "text/plain": [
       "<Figure size 432x288 with 1 Axes>"
      ]
     },
     "metadata": {
      "needs_background": "light"
     },
     "output_type": "display_data"
    }
   ],
   "source": [
    "\"\"\"\n",
    "(2) Convert the first 4 samples in the train_dataset to pytorch tensor and print their sizes and labels\n",
    "\n",
    "-hint1: Use transforms.ToTensor() to convert image to pytorch tensor\n",
    "-hint2: label information is given with CIFAR10_LABEL variable\"\"\"\n",
    "\n",
    "import torchvision.transforms as transforms\n",
    "\n",
    "fig = plt.figure()\n",
    "\n",
    "for i in range(4):\n",
    "    print(f\"<image no.{i}>\")\n",
    "    image, label_idx = train_dataset[i]\n",
    "    #print(image.shape) - not tensor yet\n",
    "    image = transforms.ToTensor()(image)\n",
    "    print(image.shape)\n",
    "    image = image.permute((1, 2, 0))\n",
    "    print(image.shape)\n",
    "    plt.imshow(image)\n",
    "    plt.title(f\"Label: {CIFAR10_LABEL[label_idx]}\")\n",
    "    plt.show()"
   ]
  },
  {
   "cell_type": "code",
   "execution_count": 8,
   "metadata": {},
   "outputs": [],
   "source": [
    "# Custom Dataset\n",
    "\n",
    "class CustomDataset(Dataset):\n",
    "    def __init__(self, train, transform=None, data_dir='./data/CIFAR_10'):\n",
    "        self.data = datasets.CIFAR10(root=data_dir, train=train, download=True)\n",
    "        self.transform = transform\n",
    "    def __len__(self):\n",
    "        return len(self.data)\n",
    "    def __getitem__(self, idx):\n",
    "        return self.data[idx]\n",
    "    def collate_fn(self, data):\n",
    "        batch_x, batch_y = [], []\n",
    "        for x, y in data:\n",
    "            if self.transform is not None:\n",
    "                x = self.transform(x)\n",
    "            x = transforms.ToTensor()(x)\n",
    "            y = torch.Tensor([y])\n",
    "            batch_x.append(X)\n",
    "            batch_y.append(y)\n",
    "        batch_x = torch.stack(batch_x).float()\n",
    "        batch_y = torch.long(batch_y).long()\n",
    "        return batch_x, batch_y\n",
    "    "
   ]
  },
  {
   "cell_type": "code",
   "execution_count": 10,
   "metadata": {},
   "outputs": [
    {
     "name": "stdout",
     "output_type": "stream",
     "text": [
      "Downloading https://www.cs.toronto.edu/~kriz/cifar-10-python.tar.gz to ./data/CIFAR_10/cifar-10-python.tar.gz\n"
     ]
    },
    {
     "name": "stderr",
     "output_type": "stream",
     "text": [
      "100%|██████████| 170498071/170498071 [02:11<00:00, 1295324.10it/s]\n"
     ]
    },
    {
     "name": "stdout",
     "output_type": "stream",
     "text": [
      "Extracting ./data/CIFAR_10/cifar-10-python.tar.gz to ./data/CIFAR_10\n",
      "Files already downloaded and verified\n"
     ]
    }
   ],
   "source": [
    "train_dataset = CustomDataset(train=True)\n",
    "test_dataset = CustomDataset(train=False)\n",
    "\n",
    "from torch.utils.data import DataLoader\n",
    "\n",
    "BATCH_SIZE = 64\n",
    "train_loader = DataLoader(dataset = train_dataset,\n",
    "                          batch_size = BATCH_SIZE,\n",
    "                          shuffle = True,\n",
    "                          collate_fn = train_dataset.collate_fn)\n",
    "test_loader = DataLoader(dataset = test_dataset,\n",
    "                          batch_size = BATCH_SIZE,\n",
    "                          shuffle = False,\n",
    "                          collate_fn = test_dataset.collate_fn)"
   ]
  }
 ],
 "metadata": {
  "kernelspec": {
   "display_name": "3D_CNN_woPip_kernel",
   "language": "python",
   "name": "3d_cnn_wopip_kernel"
  },
  "language_info": {
   "codemirror_mode": {
    "name": "ipython",
    "version": 3
   },
   "file_extension": ".py",
   "mimetype": "text/x-python",
   "name": "python",
   "nbconvert_exporter": "python",
   "pygments_lexer": "ipython3",
   "version": "3.7.13"
  }
 },
 "nbformat": 4,
 "nbformat_minor": 2
}
